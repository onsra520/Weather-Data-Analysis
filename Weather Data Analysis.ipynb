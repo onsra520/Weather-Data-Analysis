{
 "cells": [
  {
   "cell_type": "code",
   "execution_count": 117,
   "metadata": {},
   "outputs": [],
   "source": [
    "import os, glob\n",
    "import numpy as np\n",
    "import pandas as pd\n",
    "import seaborn as sns\n",
    "from sklearn.model_selection import train_test_split\n",
    "from sklearn.linear_model import LinearRegression\n",
    "from sklearn.metrics import mean_squared_error, r2_score"
   ]
  },
  {
   "cell_type": "code",
   "execution_count": 118,
   "metadata": {},
   "outputs": [],
   "source": [
    "Root = os.getcwd()\n",
    "if os.path.exists('Dataset for Model'): pass\n",
    "else: os.mkdir('Dataset for Model')\n",
    "\n",
    "if os.path.exists('Dataset By City'):\n",
    "    files = glob.glob(os.path.join('Dataset By City', '*'))\n",
    "    for Dataset_By_City in files:\n",
    "        os.remove(Dataset_By_City)\n",
    "else:\n",
    "    os.makedirs(\"Dataset By City\", exist_ok=True) \n",
    "\n",
    "Temperature = pd.read_csv(os.path.join('Dataset for Model', 'Temperature.csv'), header = 0)\n",
    "Humidity = pd.read_csv(os.path.join('Dataset for Model', 'Humidity.csv'), header = 0)\n",
    "Pressure = pd.read_csv(os.path.join('Dataset for Model', 'Pressure.csv'), header = 0)\n",
    "Wind_Speed = pd.read_csv(os.path.join('Dataset for Model', 'Wind Speed.csv'), header = 0)\n",
    "Wind_Direction = pd.read_csv(os.path.join('Dataset for Model', 'Wind Direction.csv'), header = 0)\n",
    "Weather = pd.read_csv(os.path.join('Dataset for Model', 'Weather.csv'), header = 0)"
   ]
  },
  {
   "cell_type": "code",
   "execution_count": 119,
   "metadata": {},
   "outputs": [],
   "source": [
    "Weather_Elements = [Temperature, Humidity, Pressure, Wind_Speed, Wind_Direction]\n",
    "for Element in range(len(Weather_Elements)):\n",
    "    Weather_Elements_Data = Weather_Elements[Element]\n",
    "    for Data in range(Weather_Elements_Data.shape[1]):\n",
    "        if Weather_Elements_Data.iloc[:, Data].isnull().sum() > 0:\n",
    "            Weather_Elements_Data[Weather_Elements_Data.columns[Data]] = Weather_Elements_Data[Weather_Elements_Data.columns[Data]].fillna(Weather_Elements_Data[Weather_Elements_Data.columns[Data]].mean())       \n",
    "    Weather_Elements_Data['Datetime'] = pd.to_datetime(Weather_Elements_Data['Datetime'])\n",
    "\n",
    "Conditions = [\n",
    "    'sky is clear',                     \n",
    "    'few clouds',                       \n",
    "    'scattered clouds',                 \n",
    "    'broken clouds',                   \n",
    "    'overcast clouds',              \n",
    "    'mist',                      \n",
    "    'fog',                     \n",
    "    'haze',                 \n",
    "    'smoke',                   \n",
    "    'dust',                      \n",
    "    'volcanic ash',                   \n",
    "    'drizzle',                         \n",
    "    'light intensity drizzle',         \n",
    "    'light intensity drizzle rain',    \n",
    "    'light rain',                      \n",
    "    'moderate rain',                    \n",
    "    'heavy intensity rain',            \n",
    "    'very heavy rain',                  \n",
    "    'light rain and snow',              \n",
    "    'light snow',                  \n",
    "    'snow',                             \n",
    "    'heavy snow',                    \n",
    "    'shower rain',                      \n",
    "    'heavy intensity shower rain',    \n",
    "    'proximity shower rain',           \n",
    "    'light shower sleet',               \n",
    "    'sleet',                         \n",
    "    'shower snow',                      \n",
    "    'heavy shower snow',                \n",
    "    'thunderstorm with light rain',     \n",
    "    'thunderstorm with rain',           \n",
    "    'thunderstorm',                     \n",
    "    'proximity thunderstorm',           \n",
    "    'ragged thunderstorm',              \n",
    "    'thunderstorm with heavy rain',     \n",
    "]\n",
    "\n",
    "# enumerate(conditions) sẽ duyệt qua danh sách và trả về cả chỉ số (index) và giá trị (condition). \n",
    "# Ví dụ, nó sẽ trả về cặp (0, 'sky is clear'), (1, 'few clouds'), v.v.\n",
    "Weather_Mapping = {condition: idx + 1 for idx, condition in enumerate(Conditions)}\n",
    "\n",
    "for Data in range(1, Weather.shape[1]): \n",
    "    # Ánh xạ cột thứ hai trong DataFrame\n",
    "    Weather[Weather.columns[Data]] = Weather[Weather.columns[Data]].map(Weather_Mapping)\n",
    "\n",
    "    # Điền giá trị NaN bằng giá trị trung bình (hoặc một giá trị cụ thể) trước khi chuyển đổi\n",
    "    Mean_Value = Weather[Weather.columns[Data]].mean()\n",
    "\n",
    "    # Nếu mean_value là NaN (có thể do tất cả giá trị trong cột là NaN), bạn có thể gán một giá trị khác\n",
    "    if pd.isna(Mean_Value):\n",
    "        Mean_Value = 0  # hoặc một giá trị hợp lý khác\n",
    "\n",
    "    # Thay thế NaN bằng giá trị trung bình (hoặc giá trị đã chỉ định) và chuyển đổi sang int\n",
    "    Weather[Weather.columns[Data]] = Weather[Weather.columns[Data]].fillna(Mean_Value).astype(int)\n",
    "Weather['Datetime'] = pd.to_datetime(Weather['Datetime'])"
   ]
  },
  {
   "cell_type": "code",
   "execution_count": 120,
   "metadata": {},
   "outputs": [],
   "source": [
    "Citys = Weather.columns.drop('Datetime')\n",
    "for Num in range(Citys.shape[0]):\n",
    "    City_Name = Citys[Num]\n",
    "    Data =  {\n",
    "    'Datetime': Weather[Weather.columns[0]],\n",
    "    'Temperature': Temperature[Temperature.columns[Num + 1]],\n",
    "    'Humidity': Humidity[Humidity.columns[Num + 1]],\n",
    "    'Pressure': Pressure[Pressure.columns[Num + 1]],\n",
    "    'Wind Speed': Wind_Speed[Pressure.columns[Num + 1]],\n",
    "    'Wind Direction': Wind_Direction[Wind_Direction.columns[Num + 1]],\n",
    "    'Weather': Weather[Weather.columns[Num + 1]]\n",
    "    }\n",
    "    City_Data = pd.DataFrame(Data)\n",
    "    City_Data.to_csv(os.path.join('Dataset By City', City_Name), index = False) \n"
   ]
  },
  {
   "cell_type": "code",
   "execution_count": 135,
   "metadata": {},
   "outputs": [],
   "source": [
    "City_Name = 'Beersheba'\n",
    "City_Data = pd.read_csv(os.path.join('Dataset By City', City_Name), header = 0)\n",
    "\n",
    "X = City_Data[['Temperature', 'Humidity', 'Pressure', 'Wind Speed', 'Wind Direction']]\n",
    "Y = City_Data['Weather']\n",
    "\n",
    "X_train, X_test, Y_train, Y_test = train_test_split(X, Y, test_size=0.2, random_state=42)\n",
    "\n",
    "Linear_Regression_Model = LinearRegression().fit(X_train, Y_train)\n"
   ]
  },
  {
   "cell_type": "code",
   "execution_count": 136,
   "metadata": {},
   "outputs": [
    {
     "name": "stdout",
     "output_type": "stream",
     "text": [
      "Hệ số hồi quy (beta): [ 3.79068123e-02  8.60325679e-02  1.36847336e-02  7.91655122e-01\n",
      " -3.39775550e-04]\n",
      "Hệ số chặn (intercept): -29.27070190687768\n"
     ]
    }
   ],
   "source": [
    "print(\"Hệ số hồi quy (beta):\", Linear_Regression_Model.coef_)\n",
    "print(\"Hệ số chặn (intercept):\", Linear_Regression_Model.intercept_)"
   ]
  },
  {
   "cell_type": "code",
   "execution_count": 137,
   "metadata": {},
   "outputs": [
    {
     "name": "stdout",
     "output_type": "stream",
     "text": [
      "Giá trị dự đoán: [3.17233626 2.48995727 2.49061932 ... 3.66914713 3.75601167 2.18226207]\n",
      "Giá trị thực tế: [1 4 1 ... 1 1 1]\n"
     ]
    }
   ],
   "source": [
    "# Dự đoán thời tiết trên tập kiểm tra\n",
    "Predictions = Linear_Regression_Model.predict(X_test)\n",
    "\n",
    "print(\"Giá trị dự đoán:\", Predictions)\n",
    "print(\"Giá trị thực tế:\", Y_test.values)"
   ]
  },
  {
   "cell_type": "code",
   "execution_count": 138,
   "metadata": {},
   "outputs": [
    {
     "name": "stdout",
     "output_type": "stream",
     "text": [
      "Mean Squared Error (MSE): 14.161927479337495\n",
      "R-squared: 0.1555212004763875\n"
     ]
    }
   ],
   "source": [
    "# Tính MSE\n",
    "mse = mean_squared_error(Y_test, Predictions)\n",
    "print(\"Mean Squared Error (MSE):\", mse)\n",
    "\n",
    "# Tính R-squared\n",
    "r2 = r2_score(Y_test, Predictions)\n",
    "print(\"R-squared:\", r2)"
   ]
  },
  {
   "cell_type": "code",
   "execution_count": 125,
   "metadata": {},
   "outputs": [],
   "source": [
    "# def Predict_Future_Weather_Conditions(City):"
   ]
  }
 ],
 "metadata": {
  "kernelspec": {
   "display_name": "python3",
   "language": "python",
   "name": "python3"
  },
  "language_info": {
   "codemirror_mode": {
    "name": "ipython",
    "version": 3
   },
   "file_extension": ".py",
   "mimetype": "text/x-python",
   "name": "python",
   "nbconvert_exporter": "python",
   "pygments_lexer": "ipython3",
   "version": "3.10.14"
  }
 },
 "nbformat": 4,
 "nbformat_minor": 2
}
